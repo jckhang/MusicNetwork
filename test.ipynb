{
 "cells": [
  {
   "cell_type": "code",
   "execution_count": 1,
   "metadata": {
    "collapsed": false
   },
   "outputs": [
    {
     "name": "stdout",
     "output_type": "stream",
     "text": [
      "Searching for pyechonest\n",
      "Reading https://pypi.python.org/simple/pyechonest/\n",
      "Best match: pyechonest 9.0.0\n",
      "Downloading https://pypi.python.org/packages/source/p/pyechonest/pyechonest-9.0.0.tar.gz#md5=c633dce658412e3ec553efd25d7d2686\n",
      "Processing pyechonest-9.0.0.tar.gz\n",
      "Writing /var/folders/n0/h_w4nr5975937v38p5sym7c00000gn/T/easy_install-MJfQda/pyechonest-9.0.0/setup.cfg\n",
      "Running pyechonest-9.0.0/setup.py -q bdist_egg --dist-dir /var/folders/n0/h_w4nr5975937v38p5sym7c00000gn/T/easy_install-MJfQda/pyechonest-9.0.0/egg-dist-tmp-AtwKVY\n",
      "Copying pyechonest-9.0.0-py2.7.egg to /usr/local/lib/python2.7/site-packages\n",
      "Adding pyechonest 9.0.0 to easy-install.pth file\n",
      "\n",
      "Installed /usr/local/lib/python2.7/site-packages/pyechonest-9.0.0-py2.7.egg\n",
      "Processing dependencies for pyechonest\n",
      "Finished processing dependencies for pyechonest\n"
     ]
    },
    {
     "name": "stderr",
     "output_type": "stream",
     "text": [
      "zip_safe flag not set; analyzing archive contents...\n"
     ]
    }
   ],
   "source": [
    "%%bash\n",
    "easy_install -U pyechonest"
   ]
  },
  {
   "cell_type": "code",
   "execution_count": null,
   "metadata": {
    "collapsed": true
   },
   "outputs": [],
   "source": []
  }
 ],
 "metadata": {
  "kernelspec": {
   "display_name": "Python 2",
   "language": "python",
   "name": "python2"
  },
  "language_info": {
   "codemirror_mode": {
    "name": "ipython",
    "version": 2
   },
   "file_extension": ".py",
   "mimetype": "text/x-python",
   "name": "python",
   "nbconvert_exporter": "python",
   "pygments_lexer": "ipython2",
   "version": "2.7.10"
  }
 },
 "nbformat": 4,
 "nbformat_minor": 0
}
